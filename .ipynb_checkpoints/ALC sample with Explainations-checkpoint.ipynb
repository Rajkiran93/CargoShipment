{
 "cells": [
  {
   "cell_type": "code",
   "execution_count": 1,
   "metadata": {},
   "outputs": [],
   "source": [
    "import pandas as pd\n",
    "import numpy as np\n",
    "import matplotlib.pyplot as plt\n",
    "import seaborn as sns\n",
    "from sklearn.preprocessing import StandardScaler\n",
    "%matplotlib inline"
   ]
  },
  {
   "cell_type": "code",
   "execution_count": 32,
   "metadata": {},
   "outputs": [
    {
     "name": "stdout",
     "output_type": "stream",
     "text": [
      "(9645, 107)\n"
     ]
    },
    {
     "data": {
      "text/html": [
       "<div>\n",
       "<style scoped>\n",
       "    .dataframe tbody tr th:only-of-type {\n",
       "        vertical-align: middle;\n",
       "    }\n",
       "\n",
       "    .dataframe tbody tr th {\n",
       "        vertical-align: top;\n",
       "    }\n",
       "\n",
       "    .dataframe thead th {\n",
       "        text-align: right;\n",
       "    }\n",
       "</style>\n",
       "<table border=\"1\" class=\"dataframe\">\n",
       "  <thead>\n",
       "    <tr style=\"text-align: right;\">\n",
       "      <th></th>\n",
       "      <th>Unnamed: 0</th>\n",
       "      <th>INDEX</th>\n",
       "      <th>index</th>\n",
       "      <th>SOU</th>\n",
       "      <th>SIN</th>\n",
       "      <th>NGB</th>\n",
       "      <th>Direct Account Direct Account</th>\n",
       "      <th>Forwarder General Forwarder</th>\n",
       "      <th>DIRECT</th>\n",
       "      <th>TRANSHIPMENT</th>\n",
       "      <th>...</th>\n",
       "      <th>TOTAL_ESTCOSTS_for_BL_EUR_MIN_BIN</th>\n",
       "      <th>TOTAL_ESTCOSTS_for_BL_EUR_MEAN_BIN</th>\n",
       "      <th>TOTAL_ESTPROFIT_for_BL_EUR_SUM_BIN</th>\n",
       "      <th>TOTAL_ESTPROFIT_for_BL_EUR_MAX_BIN</th>\n",
       "      <th>TOTAL_ESTPROFIT_for_BL_EUR_MIN_BIN</th>\n",
       "      <th>TOTAL_ESTPROFIT_for_BL_EUR_MEAN_BIN</th>\n",
       "      <th>TOTAL_ACTREVS_for_BL_SUM_BIN</th>\n",
       "      <th>TOTAL_ACTREVS_for_BL_MAX_BIN</th>\n",
       "      <th>TOTAL_ACTREVS_for_BL_MIN_BIN</th>\n",
       "      <th>TOTAL_ACTREVS_for_BL_MEAN_BIN</th>\n",
       "    </tr>\n",
       "  </thead>\n",
       "  <tbody>\n",
       "    <tr>\n",
       "      <th>0</th>\n",
       "      <td>0</td>\n",
       "      <td>0</td>\n",
       "      <td>瑞安市康拓进出口有限公司</td>\n",
       "      <td>0</td>\n",
       "      <td>0</td>\n",
       "      <td>1</td>\n",
       "      <td>1.0</td>\n",
       "      <td>0.0</td>\n",
       "      <td>0</td>\n",
       "      <td>1</td>\n",
       "      <td>...</td>\n",
       "      <td>0-0.0</td>\n",
       "      <td>0-26.92</td>\n",
       "      <td>0-2.65</td>\n",
       "      <td>0-13.62</td>\n",
       "      <td>-6.0-6.04</td>\n",
       "      <td>0-1.29</td>\n",
       "      <td>0-388.96</td>\n",
       "      <td>0</td>\n",
       "      <td>0</td>\n",
       "      <td>0</td>\n",
       "    </tr>\n",
       "    <tr>\n",
       "      <th>1</th>\n",
       "      <td>1</td>\n",
       "      <td>1</td>\n",
       "      <td>MADEMAFRA MADEIRAS LTDA</td>\n",
       "      <td>0</td>\n",
       "      <td>0</td>\n",
       "      <td>0</td>\n",
       "      <td>1.0</td>\n",
       "      <td>0.0</td>\n",
       "      <td>0</td>\n",
       "      <td>1</td>\n",
       "      <td>...</td>\n",
       "      <td>427.17-293281.5</td>\n",
       "      <td>575.29-293281.5</td>\n",
       "      <td>77.06-108.74</td>\n",
       "      <td>80.05-101.87</td>\n",
       "      <td>76.2-108.55</td>\n",
       "      <td>78.17-105.33</td>\n",
       "      <td>7383.01-14978.18</td>\n",
       "      <td>7006.6-1022508.0</td>\n",
       "      <td>3044.27-1022508.0</td>\n",
       "      <td>4078.9-1022508.0</td>\n",
       "    </tr>\n",
       "    <tr>\n",
       "      <th>2</th>\n",
       "      <td>2</td>\n",
       "      <td>2</td>\n",
       "      <td>SAFRAN LANDING SYSTEMS</td>\n",
       "      <td>0</td>\n",
       "      <td>1</td>\n",
       "      <td>0</td>\n",
       "      <td>1.0</td>\n",
       "      <td>0.0</td>\n",
       "      <td>0</td>\n",
       "      <td>1</td>\n",
       "      <td>...</td>\n",
       "      <td>0-0.0</td>\n",
       "      <td>0-26.92</td>\n",
       "      <td>28.95-51.71</td>\n",
       "      <td>13.62-30.74</td>\n",
       "      <td>19.55-34.93</td>\n",
       "      <td>21.79-31.75</td>\n",
       "      <td>0-388.96</td>\n",
       "      <td>0-349.0</td>\n",
       "      <td>23.18-106.0</td>\n",
       "      <td>0-246.1</td>\n",
       "    </tr>\n",
       "    <tr>\n",
       "      <th>3</th>\n",
       "      <td>3</td>\n",
       "      <td>3</td>\n",
       "      <td>义乌市竹创玩具有限公司</td>\n",
       "      <td>0</td>\n",
       "      <td>0</td>\n",
       "      <td>1</td>\n",
       "      <td>1.0</td>\n",
       "      <td>0.0</td>\n",
       "      <td>0</td>\n",
       "      <td>1</td>\n",
       "      <td>...</td>\n",
       "      <td>78.76-115.3</td>\n",
       "      <td>98.64-127.23</td>\n",
       "      <td>154.3-214.89</td>\n",
       "      <td>132.35-172.24</td>\n",
       "      <td>108.55-162.63</td>\n",
       "      <td>141.33-200.23</td>\n",
       "      <td>1639.93-2266.14</td>\n",
       "      <td>1660.78-2144.37</td>\n",
       "      <td>1893.82-3044.27</td>\n",
       "      <td>1937.54-2602.89</td>\n",
       "    </tr>\n",
       "    <tr>\n",
       "      <th>4</th>\n",
       "      <td>4</td>\n",
       "      <td>4</td>\n",
       "      <td>广州市阿莎乐贸易有限公司</td>\n",
       "      <td>0</td>\n",
       "      <td>0</td>\n",
       "      <td>9</td>\n",
       "      <td>9.0</td>\n",
       "      <td>0.0</td>\n",
       "      <td>0</td>\n",
       "      <td>9</td>\n",
       "      <td>...</td>\n",
       "      <td>427.17-293281.5</td>\n",
       "      <td>575.29-293281.5</td>\n",
       "      <td>697.16-1654.3</td>\n",
       "      <td>429.54-14672.66</td>\n",
       "      <td>76.2-108.55</td>\n",
       "      <td>141.33-200.23</td>\n",
       "      <td>39234.45-4155192.82</td>\n",
       "      <td>7006.6-1022508.0</td>\n",
       "      <td>3044.27-1022508.0</td>\n",
       "      <td>4078.9-1022508.0</td>\n",
       "    </tr>\n",
       "  </tbody>\n",
       "</table>\n",
       "<p>5 rows × 107 columns</p>\n",
       "</div>"
      ],
      "text/plain": [
       "   Unnamed: 0  INDEX                     index  SOU  SIN  NGB  \\\n",
       "0           0      0              瑞安市康拓进出口有限公司    0    0    1   \n",
       "1           1      1   MADEMAFRA MADEIRAS LTDA    0    0    0   \n",
       "2           2      2    SAFRAN LANDING SYSTEMS    0    1    0   \n",
       "3           3      3               义乌市竹创玩具有限公司    0    0    1   \n",
       "4           4      4             广州市阿莎乐贸易有限公司     0    0    9   \n",
       "\n",
       "   Direct Account Direct Account  Forwarder General Forwarder  DIRECT  \\\n",
       "0                            1.0                          0.0       0   \n",
       "1                            1.0                          0.0       0   \n",
       "2                            1.0                          0.0       0   \n",
       "3                            1.0                          0.0       0   \n",
       "4                            9.0                          0.0       0   \n",
       "\n",
       "   TRANSHIPMENT              ...                \\\n",
       "0             1              ...                 \n",
       "1             1              ...                 \n",
       "2             1              ...                 \n",
       "3             1              ...                 \n",
       "4             9              ...                 \n",
       "\n",
       "   TOTAL_ESTCOSTS_for_BL_EUR_MIN_BIN  TOTAL_ESTCOSTS_for_BL_EUR_MEAN_BIN  \\\n",
       "0                              0-0.0                             0-26.92   \n",
       "1                    427.17-293281.5                     575.29-293281.5   \n",
       "2                              0-0.0                             0-26.92   \n",
       "3                        78.76-115.3                        98.64-127.23   \n",
       "4                    427.17-293281.5                     575.29-293281.5   \n",
       "\n",
       "   TOTAL_ESTPROFIT_for_BL_EUR_SUM_BIN  TOTAL_ESTPROFIT_for_BL_EUR_MAX_BIN  \\\n",
       "0                              0-2.65                             0-13.62   \n",
       "1                        77.06-108.74                        80.05-101.87   \n",
       "2                         28.95-51.71                         13.62-30.74   \n",
       "3                        154.3-214.89                       132.35-172.24   \n",
       "4                       697.16-1654.3                     429.54-14672.66   \n",
       "\n",
       "   TOTAL_ESTPROFIT_for_BL_EUR_MIN_BIN  TOTAL_ESTPROFIT_for_BL_EUR_MEAN_BIN  \\\n",
       "0                           -6.0-6.04                               0-1.29   \n",
       "1                         76.2-108.55                         78.17-105.33   \n",
       "2                         19.55-34.93                          21.79-31.75   \n",
       "3                       108.55-162.63                        141.33-200.23   \n",
       "4                         76.2-108.55                        141.33-200.23   \n",
       "\n",
       "   TOTAL_ACTREVS_for_BL_SUM_BIN  TOTAL_ACTREVS_for_BL_MAX_BIN  \\\n",
       "0                      0-388.96                             0   \n",
       "1              7383.01-14978.18              7006.6-1022508.0   \n",
       "2                      0-388.96                       0-349.0   \n",
       "3               1639.93-2266.14               1660.78-2144.37   \n",
       "4           39234.45-4155192.82              7006.6-1022508.0   \n",
       "\n",
       "   TOTAL_ACTREVS_for_BL_MIN_BIN  TOTAL_ACTREVS_for_BL_MEAN_BIN  \n",
       "0                             0                              0  \n",
       "1             3044.27-1022508.0               4078.9-1022508.0  \n",
       "2                   23.18-106.0                        0-246.1  \n",
       "3               1893.82-3044.27                1937.54-2602.89  \n",
       "4             3044.27-1022508.0               4078.9-1022508.0  \n",
       "\n",
       "[5 rows x 107 columns]"
      ]
     },
     "execution_count": 32,
     "metadata": {},
     "output_type": "execute_result"
    }
   ],
   "source": [
    "df = pd.read_excel('data/Sample.xlsx')\n",
    "print(df.shape)\n",
    "df.head(5)"
   ]
  },
  {
   "cell_type": "code",
   "execution_count": 33,
   "metadata": {
    "scrolled": true
   },
   "outputs": [
    {
     "data": {
      "text/plain": [
       "Index(['Unnamed: 0', 'INDEX', 'index', 'SOU', 'SIN', 'NGB',\n",
       "       'Direct Account Direct Account', 'Forwarder General Forwarder',\n",
       "       'DIRECT', 'TRANSHIPMENT',\n",
       "       ...\n",
       "       'TOTAL_ESTCOSTS_for_BL_EUR_MIN_BIN',\n",
       "       'TOTAL_ESTCOSTS_for_BL_EUR_MEAN_BIN',\n",
       "       'TOTAL_ESTPROFIT_for_BL_EUR_SUM_BIN',\n",
       "       'TOTAL_ESTPROFIT_for_BL_EUR_MAX_BIN',\n",
       "       'TOTAL_ESTPROFIT_for_BL_EUR_MIN_BIN',\n",
       "       'TOTAL_ESTPROFIT_for_BL_EUR_MEAN_BIN', 'TOTAL_ACTREVS_for_BL_SUM_BIN',\n",
       "       'TOTAL_ACTREVS_for_BL_MAX_BIN', 'TOTAL_ACTREVS_for_BL_MIN_BIN',\n",
       "       'TOTAL_ACTREVS_for_BL_MEAN_BIN'],\n",
       "      dtype='object', length=107)"
      ]
     },
     "execution_count": 33,
     "metadata": {},
     "output_type": "execute_result"
    }
   ],
   "source": [
    "df.columns "
   ]
  },
  {
   "cell_type": "code",
   "execution_count": 34,
   "metadata": {},
   "outputs": [],
   "source": [
    "y = df[\"TOTAL_ESTPROFIT_for_BL_EUR_SUM\"]"
   ]
  },
  {
   "cell_type": "code",
   "execution_count": 38,
   "metadata": {},
   "outputs": [
    {
     "data": {
      "text/plain": [
       "count    9.645000e+03\n",
       "mean     7.153597e+02\n",
       "std      1.446811e+04\n",
       "min     -1.323170e+06\n",
       "25%      5.196955e+01\n",
       "50%      1.550806e+02\n",
       "75%      4.250630e+02\n",
       "max      2.457174e+05\n",
       "Name: TOTAL_ESTPROFIT_for_BL_EUR_SUM, dtype: float64"
      ]
     },
     "execution_count": 38,
     "metadata": {},
     "output_type": "execute_result"
    }
   ],
   "source": [
    "y.describe()"
   ]
  },
  {
   "cell_type": "code",
   "execution_count": 44,
   "metadata": {},
   "outputs": [
    {
     "data": {
      "text/plain": [
       "705"
      ]
     },
     "execution_count": 44,
     "metadata": {},
     "output_type": "execute_result"
    }
   ],
   "source": [
    "(y<0).sum()"
   ]
  },
  {
   "cell_type": "code",
   "execution_count": 40,
   "metadata": {},
   "outputs": [
    {
     "data": {
      "text/plain": [
       "<matplotlib.axes._subplots.AxesSubplot at 0x7f2d78e58518>"
      ]
     },
     "execution_count": 40,
     "metadata": {},
     "output_type": "execute_result"
    },
    {
     "data": {
      "image/png": "[encoded data removed]",
      "text/plain": [
       "<Figure size 432x288 with 1 Axes>"
      ]
     },
     "metadata": {
      "needs_background": "light"
     },
     "output_type": "display_data"
    }
   ],
   "source": [
    "sns.boxplot(y)"
   ]
  },
  {
   "cell_type": "code",
   "execution_count": 35,
   "metadata": {},
   "outputs": [],
   "source": [
    "df.drop(df.loc[:, 'Unnamed: 0':'20 GP'].columns, inplace = True, axis = 1)\n",
    "df.drop(df.loc[:, 'P':'TOTAL_ACTREVS_for_BL_MEAN_BIN'].columns, inplace = True, axis = 1) \n",
    "\n",
    "# df.drop(['LCL', 'FCL', 'I', 'E', '40 HC', '20 GP'], inplace = True, axis = 1) \n",
    "# df.drop(df.loc[:, 'Unnamed: 0':'Forwarder General Forwarder'].columns, inplace = True, axis = 1)\n",
    "# df.drop(df.loc[:, 'P':'TOTAL_ACTREVS_for_BL_MEAN_BIN'].columns, inplace = True, axis = 1) "
   ]
  },
  {
   "cell_type": "code",
   "execution_count": 36,
   "metadata": {},
   "outputs": [
    {
     "name": "stdout",
     "output_type": "stream",
     "text": [
      "(9645, 14)\n"
     ]
    },
    {
     "data": {
      "text/html": [
       "<div>\n",
       "<style scoped>\n",
       "    .dataframe tbody tr th:only-of-type {\n",
       "        vertical-align: middle;\n",
       "    }\n",
       "\n",
       "    .dataframe tbody tr th {\n",
       "        vertical-align: top;\n",
       "    }\n",
       "\n",
       "    .dataframe thead th {\n",
       "        text-align: right;\n",
       "    }\n",
       "</style>\n",
       "<table border=\"1\" class=\"dataframe\">\n",
       "  <thead>\n",
       "    <tr style=\"text-align: right;\">\n",
       "      <th></th>\n",
       "      <th>FAR EAST_BL_POL_REGION</th>\n",
       "      <th>EUROPE_BL_POL_REGION</th>\n",
       "      <th>SINGAPORE_BL_POL_COUNTRY</th>\n",
       "      <th>UNITED KINGDOM_BL_POL_COUNTRY</th>\n",
       "      <th>CHINA_BL_POL_COUNTRY</th>\n",
       "      <th>U.S.A._BL_POL_COUNTRY</th>\n",
       "      <th>CHINA-NINGBO_BL_POL_COUNTRY</th>\n",
       "      <th>UNITED KINGDOM_BL_POD_COUNTRY</th>\n",
       "      <th>U.S.A._BL_POD_COUNTRY</th>\n",
       "      <th>INDIA_BL_POD_COUNTRY</th>\n",
       "      <th>SINGAPORE_BL_POD_COUNTRY</th>\n",
       "      <th>FAR EAST_BL_POD_REGION</th>\n",
       "      <th>INDIAN SUB CONTINENT_BL_POD_REGION</th>\n",
       "      <th>EUROPE_BL_POD_REGION</th>\n",
       "    </tr>\n",
       "  </thead>\n",
       "  <tbody>\n",
       "    <tr>\n",
       "      <th>0</th>\n",
       "      <td>1</td>\n",
       "      <td>0</td>\n",
       "      <td>0</td>\n",
       "      <td>0</td>\n",
       "      <td>0</td>\n",
       "      <td>0</td>\n",
       "      <td>1</td>\n",
       "      <td>0</td>\n",
       "      <td>1</td>\n",
       "      <td>0</td>\n",
       "      <td>0</td>\n",
       "      <td>0</td>\n",
       "      <td>0</td>\n",
       "      <td>0</td>\n",
       "    </tr>\n",
       "    <tr>\n",
       "      <th>1</th>\n",
       "      <td>0</td>\n",
       "      <td>0</td>\n",
       "      <td>0</td>\n",
       "      <td>0</td>\n",
       "      <td>0</td>\n",
       "      <td>0</td>\n",
       "      <td>0</td>\n",
       "      <td>0</td>\n",
       "      <td>0</td>\n",
       "      <td>0</td>\n",
       "      <td>0</td>\n",
       "      <td>1</td>\n",
       "      <td>0</td>\n",
       "      <td>0</td>\n",
       "    </tr>\n",
       "    <tr>\n",
       "      <th>2</th>\n",
       "      <td>1</td>\n",
       "      <td>0</td>\n",
       "      <td>1</td>\n",
       "      <td>0</td>\n",
       "      <td>0</td>\n",
       "      <td>0</td>\n",
       "      <td>0</td>\n",
       "      <td>0</td>\n",
       "      <td>0</td>\n",
       "      <td>0</td>\n",
       "      <td>0</td>\n",
       "      <td>1</td>\n",
       "      <td>0</td>\n",
       "      <td>0</td>\n",
       "    </tr>\n",
       "    <tr>\n",
       "      <th>3</th>\n",
       "      <td>1</td>\n",
       "      <td>0</td>\n",
       "      <td>0</td>\n",
       "      <td>0</td>\n",
       "      <td>0</td>\n",
       "      <td>0</td>\n",
       "      <td>1</td>\n",
       "      <td>0</td>\n",
       "      <td>0</td>\n",
       "      <td>0</td>\n",
       "      <td>0</td>\n",
       "      <td>0</td>\n",
       "      <td>0</td>\n",
       "      <td>0</td>\n",
       "    </tr>\n",
       "    <tr>\n",
       "      <th>4</th>\n",
       "      <td>9</td>\n",
       "      <td>0</td>\n",
       "      <td>0</td>\n",
       "      <td>0</td>\n",
       "      <td>0</td>\n",
       "      <td>0</td>\n",
       "      <td>9</td>\n",
       "      <td>0</td>\n",
       "      <td>0</td>\n",
       "      <td>0</td>\n",
       "      <td>0</td>\n",
       "      <td>0</td>\n",
       "      <td>0</td>\n",
       "      <td>0</td>\n",
       "    </tr>\n",
       "  </tbody>\n",
       "</table>\n",
       "</div>"
      ],
      "text/plain": [
       "   FAR EAST_BL_POL_REGION  EUROPE_BL_POL_REGION  SINGAPORE_BL_POL_COUNTRY  \\\n",
       "0                       1                     0                         0   \n",
       "1                       0                     0                         0   \n",
       "2                       1                     0                         1   \n",
       "3                       1                     0                         0   \n",
       "4                       9                     0                         0   \n",
       "\n",
       "   UNITED KINGDOM_BL_POL_COUNTRY  CHINA_BL_POL_COUNTRY  U.S.A._BL_POL_COUNTRY  \\\n",
       "0                              0                     0                      0   \n",
       "1                              0                     0                      0   \n",
       "2                              0                     0                      0   \n",
       "3                              0                     0                      0   \n",
       "4                              0                     0                      0   \n",
       "\n",
       "   CHINA-NINGBO_BL_POL_COUNTRY  UNITED KINGDOM_BL_POD_COUNTRY  \\\n",
       "0                            1                              0   \n",
       "1                            0                              0   \n",
       "2                            0                              0   \n",
       "3                            1                              0   \n",
       "4                            9                              0   \n",
       "\n",
       "   U.S.A._BL_POD_COUNTRY  INDIA_BL_POD_COUNTRY  SINGAPORE_BL_POD_COUNTRY  \\\n",
       "0                      1                     0                         0   \n",
       "1                      0                     0                         0   \n",
       "2                      0                     0                         0   \n",
       "3                      0                     0                         0   \n",
       "4                      0                     0                         0   \n",
       "\n",
       "   FAR EAST_BL_POD_REGION  INDIAN SUB CONTINENT_BL_POD_REGION  \\\n",
       "0                       0                                   0   \n",
       "1                       1                                   0   \n",
       "2                       1                                   0   \n",
       "3                       0                                   0   \n",
       "4                       0                                   0   \n",
       "\n",
       "   EUROPE_BL_POD_REGION  \n",
       "0                     0  \n",
       "1                     0  \n",
       "2                     0  \n",
       "3                     0  \n",
       "4                     0  "
      ]
     },
     "execution_count": 36,
     "metadata": {},
     "output_type": "execute_result"
    }
   ],
   "source": [
    "print(df.shape)\n",
    "df.head(5)"
   ]
  },
  {
   "cell_type": "code",
   "execution_count": 37,
   "metadata": {},
   "outputs": [
    {
     "data": {
      "text/plain": [
       "FAR EAST_BL_POL_REGION                0\n",
       "EUROPE_BL_POL_REGION                  0\n",
       "SINGAPORE_BL_POL_COUNTRY              0\n",
       "UNITED KINGDOM_BL_POL_COUNTRY         0\n",
       "CHINA_BL_POL_COUNTRY                  0\n",
       "U.S.A._BL_POL_COUNTRY                 0\n",
       "CHINA-NINGBO_BL_POL_COUNTRY           0\n",
       "UNITED KINGDOM_BL_POD_COUNTRY         0\n",
       "U.S.A._BL_POD_COUNTRY                 0\n",
       "INDIA_BL_POD_COUNTRY                  0\n",
       "SINGAPORE_BL_POD_COUNTRY              0\n",
       "FAR EAST_BL_POD_REGION                0\n",
       "INDIAN SUB CONTINENT_BL_POD_REGION    0\n",
       "EUROPE_BL_POD_REGION                  0\n",
       "dtype: int64"
      ]
     },
     "execution_count": 37,
     "metadata": {},
     "output_type": "execute_result"
    }
   ],
   "source": [
    "df.isna().sum()"
   ]
  },
  {
   "cell_type": "code",
   "execution_count": 201,
   "metadata": {},
   "outputs": [],
   "source": [
    "df = pd.DataFrame(df)\n",
    "df = df.fillna(0)"
   ]
  },
  {
   "cell_type": "code",
   "execution_count": 59,
   "metadata": {},
   "outputs": [
    {
     "data": {
      "text/html": [
       "<div>\n",
       "<style scoped>\n",
       "    .dataframe tbody tr th:only-of-type {\n",
       "        vertical-align: middle;\n",
       "    }\n",
       "\n",
       "    .dataframe tbody tr th {\n",
       "        vertical-align: top;\n",
       "    }\n",
       "\n",
       "    .dataframe thead th {\n",
       "        text-align: right;\n",
       "    }\n",
       "</style>\n",
       "<table border=\"1\" class=\"dataframe\">\n",
       "  <thead>\n",
       "    <tr style=\"text-align: right;\">\n",
       "      <th></th>\n",
       "      <th>FAR EAST_BL_POL_REGION</th>\n",
       "      <th>EUROPE_BL_POL_REGION</th>\n",
       "      <th>SINGAPORE_BL_POL_COUNTRY</th>\n",
       "      <th>UNITED KINGDOM_BL_POL_COUNTRY</th>\n",
       "      <th>CHINA_BL_POL_COUNTRY</th>\n",
       "      <th>U.S.A._BL_POL_COUNTRY</th>\n",
       "      <th>CHINA-NINGBO_BL_POL_COUNTRY</th>\n",
       "      <th>UNITED KINGDOM_BL_POD_COUNTRY</th>\n",
       "      <th>U.S.A._BL_POD_COUNTRY</th>\n",
       "      <th>INDIA_BL_POD_COUNTRY</th>\n",
       "      <th>SINGAPORE_BL_POD_COUNTRY</th>\n",
       "      <th>FAR EAST_BL_POD_REGION</th>\n",
       "      <th>INDIAN SUB CONTINENT_BL_POD_REGION</th>\n",
       "      <th>EUROPE_BL_POD_REGION</th>\n",
       "    </tr>\n",
       "  </thead>\n",
       "  <tbody>\n",
       "    <tr>\n",
       "      <th>0</th>\n",
       "      <td>1</td>\n",
       "      <td>0</td>\n",
       "      <td>0</td>\n",
       "      <td>0</td>\n",
       "      <td>0</td>\n",
       "      <td>0</td>\n",
       "      <td>1</td>\n",
       "      <td>0</td>\n",
       "      <td>1</td>\n",
       "      <td>0</td>\n",
       "      <td>0</td>\n",
       "      <td>0</td>\n",
       "      <td>0</td>\n",
       "      <td>0</td>\n",
       "    </tr>\n",
       "    <tr>\n",
       "      <th>1</th>\n",
       "      <td>0</td>\n",
       "      <td>0</td>\n",
       "      <td>0</td>\n",
       "      <td>0</td>\n",
       "      <td>0</td>\n",
       "      <td>0</td>\n",
       "      <td>0</td>\n",
       "      <td>0</td>\n",
       "      <td>0</td>\n",
       "      <td>0</td>\n",
       "      <td>0</td>\n",
       "      <td>1</td>\n",
       "      <td>0</td>\n",
       "      <td>0</td>\n",
       "    </tr>\n",
       "    <tr>\n",
       "      <th>2</th>\n",
       "      <td>1</td>\n",
       "      <td>0</td>\n",
       "      <td>1</td>\n",
       "      <td>0</td>\n",
       "      <td>0</td>\n",
       "      <td>0</td>\n",
       "      <td>0</td>\n",
       "      <td>0</td>\n",
       "      <td>0</td>\n",
       "      <td>0</td>\n",
       "      <td>0</td>\n",
       "      <td>1</td>\n",
       "      <td>0</td>\n",
       "      <td>0</td>\n",
       "    </tr>\n",
       "    <tr>\n",
       "      <th>3</th>\n",
       "      <td>1</td>\n",
       "      <td>0</td>\n",
       "      <td>0</td>\n",
       "      <td>0</td>\n",
       "      <td>0</td>\n",
       "      <td>0</td>\n",
       "      <td>1</td>\n",
       "      <td>0</td>\n",
       "      <td>0</td>\n",
       "      <td>0</td>\n",
       "      <td>0</td>\n",
       "      <td>0</td>\n",
       "      <td>0</td>\n",
       "      <td>0</td>\n",
       "    </tr>\n",
       "    <tr>\n",
       "      <th>4</th>\n",
       "      <td>9</td>\n",
       "      <td>0</td>\n",
       "      <td>0</td>\n",
       "      <td>0</td>\n",
       "      <td>0</td>\n",
       "      <td>0</td>\n",
       "      <td>9</td>\n",
       "      <td>0</td>\n",
       "      <td>0</td>\n",
       "      <td>0</td>\n",
       "      <td>0</td>\n",
       "      <td>0</td>\n",
       "      <td>0</td>\n",
       "      <td>0</td>\n",
       "    </tr>\n",
       "  </tbody>\n",
       "</table>\n",
       "</div>"
      ],
      "text/plain": [
       "   FAR EAST_BL_POL_REGION  EUROPE_BL_POL_REGION  SINGAPORE_BL_POL_COUNTRY  \\\n",
       "0                       1                     0                         0   \n",
       "1                       0                     0                         0   \n",
       "2                       1                     0                         1   \n",
       "3                       1                     0                         0   \n",
       "4                       9                     0                         0   \n",
       "\n",
       "   UNITED KINGDOM_BL_POL_COUNTRY  CHINA_BL_POL_COUNTRY  U.S.A._BL_POL_COUNTRY  \\\n",
       "0                              0                     0                      0   \n",
       "1                              0                     0                      0   \n",
       "2                              0                     0                      0   \n",
       "3                              0                     0                      0   \n",
       "4                              0                     0                      0   \n",
       "\n",
       "   CHINA-NINGBO_BL_POL_COUNTRY  UNITED KINGDOM_BL_POD_COUNTRY  \\\n",
       "0                            1                              0   \n",
       "1                            0                              0   \n",
       "2                            0                              0   \n",
       "3                            1                              0   \n",
       "4                            9                              0   \n",
       "\n",
       "   U.S.A._BL_POD_COUNTRY  INDIA_BL_POD_COUNTRY  SINGAPORE_BL_POD_COUNTRY  \\\n",
       "0                      1                     0                         0   \n",
       "1                      0                     0                         0   \n",
       "2                      0                     0                         0   \n",
       "3                      0                     0                         0   \n",
       "4                      0                     0                         0   \n",
       "\n",
       "   FAR EAST_BL_POD_REGION  INDIAN SUB CONTINENT_BL_POD_REGION  \\\n",
       "0                       0                                   0   \n",
       "1                       1                                   0   \n",
       "2                       1                                   0   \n",
       "3                       0                                   0   \n",
       "4                       0                                   0   \n",
       "\n",
       "   EUROPE_BL_POD_REGION  \n",
       "0                     0  \n",
       "1                     0  \n",
       "2                     0  \n",
       "3                     0  \n",
       "4                     0  "
      ]
     },
     "execution_count": 59,
     "metadata": {},
     "output_type": "execute_result"
    }
   ],
   "source": [
    "export_excel = df.to_excel (r'ExtractedFeatures.xlsx', index = None, header=True)\n",
    "df = pd.read_excel('ExtractedFeatures.xlsx')\n",
    "df.head(5)"
   ]
  },
  {
   "cell_type": "code",
   "execution_count": 68,
   "metadata": {},
   "outputs": [],
   "source": [
    "# #Using the elbow method to find the optimum number of clusters\n",
    "# from sklearn.cluster import KMeans\n",
    "# wcss = []\n",
    "# for i in range(1,12):\n",
    "#     km=KMeans(n_clusters=i,init='k-means++', max_iter=1000, n_init=10, random_state=0)\n",
    "#     km.fit(df)\n",
    "#     wcss.append(km.inertia_)\n",
    "# plt.plot(range(1,12),wcss)\n",
    "# plt.title('Elbow Method')\n",
    "# plt.xlabel('Number of clusters')\n",
    "# plt.ylabel('wcss')\n",
    "# plt.show()"
   ]
  },
  {
   "cell_type": "code",
   "execution_count": 69,
   "metadata": {},
   "outputs": [],
   "source": [
    "# ##Fitting kmeans to the dataset with k=?\n",
    "# km=KMeans(n_clusters=3,init='k-means++', max_iter=1000, n_init=10, random_state=0)\n",
    "# y_means = km.fit_predict(df)\n",
    "\n",
    "# km.cluster_centers_"
   ]
  },
  {
   "cell_type": "code",
   "execution_count": 70,
   "metadata": {},
   "outputs": [],
   "source": [
    "\n",
    "# # Visualizing the clusters for k=6\n",
    "# plt.figure(figsize=(20,20))\n",
    "# plt.scatter(df[y_means==0],df[y_means==0],s=30, c='purple',label='Cluster1')\n",
    "# plt.scatter(df[y_means==1],df[y_means==1],s=30, c='blue',label='Cluster2')\n",
    "# plt.scatter(df[y_means==2],df[y_means==2],s=30, c='green',label='Cluster3')\n",
    "# # plt.scatter(df[y_means==3],df[y_means==3],s=30, c='cyan',label='Cluster4')\n",
    "# # plt.scatter(df[y_means==4],df[y_means==4],s=30, c='red',label='Cluster5')\n",
    "# # plt.scatter(df[y_means==5],df[y_means==5],s=30, c='brown',label='Cluster6')\n",
    "# # plt.scatter(df[y_means==6],df[y_means==6],s=30, c='yellow',label='Cluster7')\n",
    "# # plt.scatter(df[y_means==7],df[y_means==7],s=30, c='brown',label='Cluster8')\n",
    "# plt.scatter(km.cluster_centers_[:,0], km.cluster_centers_[:,1],s=10,marker='s', c='black', alpha=0.7, label='Centroids')\n",
    "# plt.title('Transitions segments')\n",
    "# plt.legend()\n",
    "# plt.show()\n",
    "\n",
    "\n",
    "\n",
    "# # # Visualizing the clusters for k=6\n",
    "# # plt.scatter(df[y_means==0,0],df[y_means==0,1],s=50, c='purple',label='Cluster1')\n",
    "# # plt.scatter(df[y_means==1,0],df[y_means==1,1],s=50, c='blue',label='Cluster2')\n",
    "# # plt.scatter(df[y_means==2,0],df[y_means==2,1],s=50, c='green',label='Cluster3')\n",
    "# # plt.scatter(df[y_means==3,0],df[y_means==3,1],s=50, c='cyan',label='Cluster4')\n",
    "# # plt.scatter(df[y_means==4,0],df[y_means==4,1],s=50, c='red',label='Cluster5')\n",
    "# # plt.scatter(df[y_means==5,0],df[y_means==5,1],s=50, c='brown',label='Cluster6')\n",
    "# # plt.scatter(km.cluster_centers_[:,0], km.cluster_centers_[:,1],s=300,marker='s', c='black', alpha=0.7, label='Centroids')\n",
    "# # plt.title('Transitions segments')\n",
    "# # plt.legend()\n",
    "# # plt.show()"
   ]
  },
  {
   "cell_type": "code",
   "execution_count": 75,
   "metadata": {},
   "outputs": [],
   "source": [
    "X = df.values.copy()\n",
    "# scale = StandardScaler()\n",
    "# X = scale.fit_transform(df)"
   ]
  },
  {
   "cell_type": "markdown",
   "metadata": {},
   "source": [
    "### Applying PCA"
   ]
  },
  {
   "cell_type": "markdown",
   "metadata": {},
   "source": [
    "Since data is in 14 dimension, we bring it to 2 dimension using PCA which will be easy to draw and cluster."
   ]
  },
  {
   "cell_type": "code",
   "execution_count": 81,
   "metadata": {},
   "outputs": [],
   "source": [
    "from sklearn.decomposition import PCA\n",
    "pca = PCA(n_components=2).fit(X)\n",
    "pca_2d = pca.transform(X)"
   ]
  },
  {
   "cell_type": "markdown",
   "metadata": {},
   "source": [
    "The data in 2 dimension encoded by PCA can then be passed to K-Mean with 3 clusters."
   ]
  },
  {
   "cell_type": "code",
   "execution_count": 77,
   "metadata": {},
   "outputs": [],
   "source": [
    "kmeans = KMeans(n_clusters=3)\n",
    "cluster_found = kmeans.fit_predict(pca_2d)\n",
    "cluster_found_sr = pd.Series(cluster_found, name='cluster')\n",
    "df_uci_pivot = df.set_index(cluster_found_sr, append=True )\n",
    "cluster_values = sorted(df_uci_pivot.index.get_level_values('cluster').unique())"
   ]
  },
  {
   "cell_type": "code",
   "execution_count": 83,
   "metadata": {},
   "outputs": [],
   "source": [
    "# from sklearn.manifold import TSNE\n",
    "# import matplotlib.colors\n",
    "\n",
    "# tsne = TSNE()\n",
    "# results_tsne = tsne.fit_transform(X)\n",
    "\n",
    "cmap = matplotlib.colors.LinearSegmentedColormap.from_list(cluster_values, color_list)"
   ]
  },
  {
   "cell_type": "code",
   "execution_count": 82,
   "metadata": {},
   "outputs": [],
   "source": [
    "# plt.scatter(results_tsne[:,0], results_tsne[:,1],\n",
    "#     c=df_uci_pivot.index.get_level_values('cluster'),\n",
    "#     cmap=cmap, \n",
    "#     alpha=0.5, \n",
    "#     )"
   ]
  },
  {
   "cell_type": "code",
   "execution_count": 84,
   "metadata": {},
   "outputs": [
    {
     "data": {
      "text/plain": [
       "<matplotlib.collections.PathCollection at 0x7f2d78698a90>"
      ]
     },
     "execution_count": 84,
     "metadata": {},
     "output_type": "execute_result"
    },
    {
     "data": {
      "image/png": "[encoded data removed]",
      "text/plain": [
       "<Figure size 432x288 with 1 Axes>"
      ]
     },
     "metadata": {
      "needs_background": "light"
     },
     "output_type": "display_data"
    }
   ],
   "source": [
    "plt.scatter(pca_2d[:,0], pca_2d[:,1],\n",
    "    c=df_uci_pivot.index.get_level_values('cluster'),\n",
    "    cmap=cmap, \n",
    "    alpha=0.5, \n",
    "    )"
   ]
  }
 ],
 "metadata": {
  "kernelspec": {
   "display_name": "Python 3",
   "language": "python",
   "name": "python3"
  },
  "language_info": {
   "codemirror_mode": {
    "name": "ipython",
    "version": 3
   },
   "file_extension": ".py",
   "mimetype": "text/x-python",
   "name": "python",
   "nbconvert_exporter": "python",
   "pygments_lexer": "ipython3",
   "version": "3.7.2"
  }
 },
 "nbformat": 4,
 "nbformat_minor": 2
}
